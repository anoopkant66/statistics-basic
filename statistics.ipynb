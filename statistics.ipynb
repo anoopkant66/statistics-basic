{
  "nbformat": 4,
  "nbformat_minor": 0,
  "metadata": {
    "colab": {
      "provenance": []
    },
    "kernelspec": {
      "name": "python3",
      "display_name": "Python 3"
    },
    "language_info": {
      "name": "python"
    }
  },
  "cells": [
    {
      "cell_type": "markdown",
      "source": [
        "Question 1: What is the difference between descriptive statistics and inferential statistics? Explain with examples?"
      ],
      "metadata": {
        "id": "RqeHXa83EG6t"
      }
    },
    {
      "cell_type": "markdown",
      "source": [
        "\n",
        "Solution  =\n",
        "DESCRIPTIVE STATISTICS :- descriptive statistics summarize/describe and organise the main feature of the data set.\n",
        "They use present the data in meaningful way using  tables and graphs.\n",
        "Purpose:-\n",
        "To describe what data shows.\n",
        "Common tools :-\n",
        "Measure of central tendency :-\n",
        "1.\tMean = sum of the total observation divided by the numbers of the observation.\n",
        "2.\tMedian = median is the value that lies at the mid point of the data set .\n",
        "1.\tWhen number of elements are odd then midpoint value is taken.\n",
        "2.\tWhen no of elements are even then the average of 2 midpoint value is taken for the mean.\n",
        "        3.  Mode = mode is the element or elements  which has the highest no      of frequency in the data set.\n",
        "          Example :- calculating the average weight  of the student in the class.\n",
        "INFERENTIAL STATISTICS :-  inferential statistics makes prediction about population using  sample data.\n",
        "Purpose:-\n",
        "To infer or draw conclusions beyond the immediate data.\n",
        "Common Tools:\n",
        "•\tHypothesis testing\n",
        "•\tConfidence intervals\n",
        "•\tRegression analysis\n",
        "•\tANOVA (Analysis of Variance)\n",
        "\n",
        "Example:\n",
        "A researcher surveys 100 voters out of a city of 10,000 to estimate how many will vote for a particular candidate.\n"
      ],
      "metadata": {
        "id": "qbY74CalENnR"
      }
    },
    {
      "cell_type": "markdown",
      "source": [],
      "metadata": {
        "id": "NZGzj2h9ED0B"
      }
    },
    {
      "cell_type": "markdown",
      "source": [
        "Question 2: What is sampling in statistics? Explain the differences between random and stratified sampling?\n",
        "Solutions =\n"
      ],
      "metadata": {
        "id": "hZolM90TETAX"
      }
    },
    {
      "cell_type": "markdown",
      "source": [
        " Sampling in statistics:-\n",
        "sampling is the process of selecting a subset (sample) from a larger population in order to analyse and make inferences about the population without studying every member.\n",
        "Since studying an entire population can be costly, time-consuming, or impractical, sampling allows statisticians to collect data more efficiently.\n",
        "\n",
        "Why Sampling Is Important:\n",
        "•\tSaves time and resources\n",
        "•\tAllows for quicker data collection\n",
        "•\tEnables data analysis on large populations through inference\n",
        "DIFFERENCE BETWEEN RANDOM SAMPLING (SIMPLE RANDOM SAMPILING) AND STRATIFIED SAMPLING.\n",
        "RANDOM SAMPLING:-\n",
        "Random sampling means that any random 10 people are selected from 100 100 people and every 100 people have equal chance to get selected.\n",
        "-\tUse random method of selection.\n",
        "-\tNo grouping or classification\n",
        "Example:-\n",
        "A random 10 people are selected among 100 people on random basis.\n",
        "Advantage = every one has equal chance to get selected.\n",
        "-\teasy to implement id the list of population is available.\n",
        "Disadvantage = may not represent the all class and sub group.\n",
        "STRATIFIED SAMPLING\n",
        "The population is divided into homogeneous groups (strata) based on a characteristic (like age, gender, income), and samples are randomly selected from each group.\n",
        " Identify strata (e.g., male/female)\n",
        "  Randomly select from each stratum in proportion to the population\n",
        "Example:\n",
        "In a company with 70% male and 30% female employees:\n",
        "•\tYou divide the population into 2 strata (male, female)\n",
        "•\tThen randomly sample 70% of your sample size from males and 30% from females\n",
        "Advantage = ensure represent all type of data keys.\n",
        "-\tReduce sampling bias.\n",
        "Disadvantage = require detailed population information.\n",
        "-\tMore complex to organize.\n"
      ],
      "metadata": {
        "id": "j0peiM0XEd38"
      }
    },
    {
      "cell_type": "markdown",
      "source": [
        "\n",
        "Question 3: Define mean, median, and mode. Explain why these measures of central tendency are important?\n"
      ],
      "metadata": {
        "id": "vdgZaz6hEn1_"
      }
    },
    {
      "cell_type": "markdown",
      "source": [
        "Solution :-\n",
        "Measures of Central Tendency\n",
        "Measures of central tendency help us understand the center, or the most typical value, of a dataset. The three main measures are:\n",
        "\n",
        "1. Mean (Average)\n",
        "Definition:\n",
        "The mean is the sum of all values divided by the total number of values.\n",
        "Formula:\n",
        "Mean=Sum of all valuesNumber of values\\text{Mean} = \\frac{\\text{Sum of all values}}{\\text{Number of values}}Mean=Number of valuesSum of all values\n",
        "Example:\n",
        "Scores = [10, 20, 30, 40, 50]\n",
        "Mean=10+20+30+40+505=1505=30\\text{Mean} = \\frac{10 + 20 + 30 + 40 + 50}{5} = \\frac{150}{5} = 30Mean=510+20+30+40+50=5150=30\n",
        " Use:\n",
        "Gives a general idea of the dataset’s average.\n",
        " Limitation:\n",
        "Affected by extreme values (outliers).\n",
        "________________________________________\n",
        "2. Median\n",
        "Definition:\n",
        "The median is the middle value when data is arranged in order.\n",
        "•\tIf the number of observations is odd, the median is the middle value.\n",
        "•\tIf it's even, the median is the average of the two middle values.\n",
        "Example:\n",
        "Data = [10, 20, 30, 40, 50] → Median = 30 (middle value)\n",
        "Data = [10, 20, 30, 40] → Median = (20 + 30)/2 = 25\n",
        "Use:\n",
        "Useful when data has skewed distributions or outliers.\n",
        "________________________________________\n",
        "3. Mode\n",
        " Definition:\n",
        "The mode is the value that occurs most frequently in the dataset.\n",
        " Example:\n",
        "Data = [5, 10, 10, 20, 30] → Mode = 10\n",
        "A dataset can be:\n",
        "•\tUnimodal (one mode),\n",
        "•\tBimodal (two modes),\n",
        "•\tOr have no mode (if all values occur equally)\n",
        "Use:\n",
        "Useful for categorical data (like color, brand, etc.) or for finding the most common value.\n"
      ],
      "metadata": {
        "id": "lPoajjRgEr5f"
      }
    },
    {
      "cell_type": "markdown",
      "source": [
        "Question 4: Explain skewness and kurtosis. What does a positive skew imply about the data?"
      ],
      "metadata": {
        "id": "JY2DWojGEztD"
      }
    },
    {
      "cell_type": "markdown",
      "source": [
        "Solution :-\n",
        "Skewness:\n",
        "Skewness measures the asymmetry of the distribution of values in a dataset.\n",
        "•\tPositive skew (Right skew): The right tail (larger values) is longer. Most values are concentrated on the left.\n",
        "•\tNegative skew (Left skew): The left tail (smaller values) is longer. Most values are concentrated on the right.\n",
        "•\tZero skew: The distribution is symmetrical (like a normal distribution).\n",
        "What does a positive skew imply about the data?\n",
        "A positive skew indicates that the majority of the data values are lower, and a few high values (outliers) pull the tail to the right. Mean > Median > Mode in such cases.\n",
        "Kurtosis:\n",
        "Kurtosis measures the \"tailedness\" of the data — how heavy or light the tails are compared to a normal distribution.\n",
        "•\tMesokurtic (Kurtosis ≈ 3): Normal distribution.\n",
        "•\tLeptokurtic (Kurtosis > 3): Heavy tails — more extreme outliers.\n",
        "•\tPlatykurtic (Kurtosis < 3): Light tails — fewer outliers than normal.\n"
      ],
      "metadata": {
        "id": "dLPfS2qXE3Ij"
      }
    },
    {
      "cell_type": "markdown",
      "source": [
        "Question 5: Implement a Python program to compute the mean, median, and mode of a given list of numbers?\n",
        "Solution :-\n"
      ],
      "metadata": {
        "id": "sXMsitl0E_Jv"
      }
    },
    {
      "cell_type": "code",
      "source": [
        "import numpy as np\n",
        "import statistics\n",
        "numbers = [12, 15, 12, 18, 19, 12, 20, 22, 19, 19, 24, 24, 24, 26, 28]\n",
        "mean = np.mean(numbers)\n",
        "print(f'the mean of the list numbers is : {mean}')\n",
        "median = np.median(numbers)\n",
        "print(f'the median of the list numbers us : {median}')\n",
        "mode = statistics.mode(numbers)\n",
        "print(f'the mode of the list numbers is : {mode}')\n"
      ],
      "metadata": {
        "colab": {
          "base_uri": "https://localhost:8080/"
        },
        "id": "kOXdnbPbFPo5",
        "outputId": "a8987fd5-dd2d-46e2-9b79-0af30b2f037a"
      },
      "execution_count": 1,
      "outputs": [
        {
          "output_type": "stream",
          "name": "stdout",
          "text": [
            "the mean of the list numbers is : 19.6\n",
            "the median of the list numbers us : 19.0\n",
            "the mode of the list numbers is : 12\n"
          ]
        }
      ]
    },
    {
      "cell_type": "markdown",
      "source": [
        "Question 6: Compute the covariance and correlation coefficient between the following two datasets provided as lists in Python?\n",
        "list_x = [10, 20, 30, 40, 50]\n",
        " list_y = [15, 25, 35, 45, 60]\n"
      ],
      "metadata": {
        "id": "AzE-ndqsFEty"
      }
    },
    {
      "cell_type": "code",
      "source": [
        "import numpy as np\n",
        "list_x = [10, 20, 30, 40, 50]\n",
        "list_y = [15, 25, 35, 45, 60]\n",
        "\n",
        "x = np.array(list_x)\n",
        "y = np.array(list_y)\n",
        "\n",
        "cov_matrix = np.cov(x, y, ddof=1)  # ddof=1 for sample covariance\n",
        "covariance = cov_matrix[0, 1]\n",
        "correlation = np.corrcoef(x, y)[0, 1]\n",
        "\n",
        "print(f'covariance: {covariance}')\n",
        "print(f'correlation: {correlation}')\n"
      ],
      "metadata": {
        "colab": {
          "base_uri": "https://localhost:8080/"
        },
        "id": "I8Xs2BNcEcLq",
        "outputId": "b637a5f4-51cd-4db1-c360-2c08f66f0185"
      },
      "execution_count": 2,
      "outputs": [
        {
          "output_type": "stream",
          "name": "stdout",
          "text": [
            "covariance: 275.0\n",
            "correlation: 0.995893206467704\n"
          ]
        }
      ]
    },
    {
      "cell_type": "markdown",
      "source": [
        "Question 7: Write a Python script to draw a boxplot for the following numeric list and identify its outliers. Explain the result: ?\n",
        "data = [12, 14, 14, 15, 18, 19, 19, 21, 22, 22, 23, 23, 24, 26, 29, 35]\n"
      ],
      "metadata": {
        "id": "UMc2BPi0FkIx"
      }
    },
    {
      "cell_type": "code",
      "source": [
        "import pandas as pd\n",
        "import matplotlib.pyplot as plt\n",
        "import seaborn as sns\n",
        "\n",
        "data = [12, 14, 14, 15, 18, 19, 19, 21, 22, 22, 23, 23, 24, 26, 29, 35]\n",
        "\n",
        "plt.figure(figsize=(10,5))\n",
        "sns.boxplot(data = data , color = 'b')\n",
        "plt.title('BOX PLOT OF DATA')\n",
        "plt.xlabel('DATA VALUES')\n",
        "plt.grid(True)\n",
        "plt.savefig('boxplot.png', dpi=300, bbox_inches = 'tight' )\n",
        "plt.show()\n"
      ],
      "metadata": {
        "colab": {
          "base_uri": "https://localhost:8080/",
          "height": 473
        },
        "id": "0vbmHabFFevy",
        "outputId": "0b4d2f15-86fc-4664-fd74-108393af99b6"
      },
      "execution_count": 3,
      "outputs": [
        {
          "output_type": "display_data",
          "data": {
            "text/plain": [
              "<Figure size 1000x500 with 1 Axes>"
            ],
            "image/png": "[encoded data removed]"
          },
          "metadata": {}
        }
      ]
    },
    {
      "cell_type": "markdown",
      "source": [
        "Question 8: You are working as a data analyst in an e-commerce company. The marketing team wants to know if there is a relationship between advertising spend and daily sales?\n",
        " ● Explain how you would use covariance and correlation to explore this relationship.\n",
        "● Write Python code to compute the correlation between the two lists?\n",
        "advertising_spend = [200, 250, 300, 400, 500] daily_sales = [2200, 2450, 2750, 3200, 4000]\n",
        "solution:-\n"
      ],
      "metadata": {
        "id": "t_J-YLqcFryD"
      }
    },
    {
      "cell_type": "code",
      "source": [
        "import numpy as np\n",
        "\n",
        "# Given data\n",
        "advertising_spend = [200, 250, 300, 400, 500]\n",
        "daily_sales = [2200, 2450, 2750, 3200, 4000]\n",
        "\n",
        "# Convert to numpy arrays\n",
        "x = np.array(advertising_spend)\n",
        "y = np.array(daily_sales)\n",
        "\n",
        "# Compute covariance\n",
        "cov_matrix = np.cov(x, y, ddof=1)\n",
        "covariance = cov_matrix[0, 1]\n",
        "\n",
        "# Compute correlation coefficient\n",
        "correlation = np.corrcoef(x, y)[0, 1]\n",
        "\n",
        "# Display results\n",
        "print(\"Covariance:\", covariance)\n",
        "print(\"Correlation Coefficient:\", correlation)\n"
      ],
      "metadata": {
        "colab": {
          "base_uri": "https://localhost:8080/"
        },
        "id": "jLF_fMUUFp9P",
        "outputId": "a67668a3-e88c-4b17-cc2a-93a9d04de616"
      },
      "execution_count": 4,
      "outputs": [
        {
          "output_type": "stream",
          "name": "stdout",
          "text": [
            "Covariance: 84875.0\n",
            "Correlation Coefficient: 0.9935824101653329\n"
          ]
        }
      ]
    },
    {
      "cell_type": "markdown",
      "source": [
        "Question 9: Your team has collected customer satisfaction survey data on a scale of 1-10 and wants to understand its distribution before launching a new product?"
      ],
      "metadata": {
        "id": "6JzvrO0EF6c_"
      }
    },
    {
      "cell_type": "markdown",
      "source": [
        "Summary Statistics:\n",
        "1.\tMean\n",
        "The mean tells us the average satisfaction level across all customers. It gives a sense of the central value of the data.\n",
        "2.\tMedian\n",
        "The median is the middle score when all responses are sorted. It’s especially useful if the data is skewed or has outliers because it's not affected by extreme values.\n",
        "3.\tMode\n",
        "The mode represents the most frequently occurring score. It tells us what most customers commonly rated their satisfaction.\n",
        "4.\tStandard Deviation\n",
        "This tells us how spread out the scores are from the mean. A low standard deviation means most scores are close to the average; a high value indicates more variability in customer opinions.\n",
        "5.\tMinimum and Maximum\n",
        "These show the range of responses — from the least satisfied to the most satisfied customers.\n",
        "Visualizations:-\n",
        "1.\tHistogram.\n",
        "2.\tBoxplot.\n"
      ],
      "metadata": {
        "id": "p0aZbTCmGBcD"
      }
    },
    {
      "cell_type": "code",
      "source": [
        "import matplotlib.pyplot as plt\n",
        "import numpy as np\n",
        "\n",
        "# Given survey data\n",
        "survey_scores = [7, 8, 5, 9, 6, 7, 8, 9, 10, 4, 7, 6, 9, 8, 7]\n",
        "\n",
        "# --- Summary Statistics ---\n",
        "mean = np.mean(survey_scores)\n",
        "median = np.median(survey_scores)\n",
        "mode = max(set(survey_scores), key=survey_scores.count)\n",
        "std_dev = np.std(survey_scores, ddof=1)\n",
        "\n",
        "# --- Print statistics ---\n",
        "print(\"Mean:\", mean)\n",
        "print(\"Median:\", median)\n",
        "print(\"Mode:\", mode)\n",
        "print(\"Standard Deviation:\", std_dev)\n",
        "\n",
        "# --- Histogram ---\n",
        "plt.figure(figsize=(8, 5))\n",
        "plt.hist(survey_scores, bins=7, color='skyblue', edgecolor='black')\n",
        "plt.title(\"Customer Satisfaction Score Distribution\")\n",
        "plt.xlabel(\"Satisfaction Score (1-10)\")\n",
        "plt.ylabel(\"Frequency\")\n",
        "plt.grid(True, linestyle='--', alpha=0.5)\n",
        "plt.show()\n"
      ],
      "metadata": {
        "colab": {
          "base_uri": "https://localhost:8080/",
          "height": 556
        },
        "id": "R3771MVQF2sG",
        "outputId": "a5316a10-8ebb-4539-9656-bb20966ebfb6"
      },
      "execution_count": 5,
      "outputs": [
        {
          "output_type": "stream",
          "name": "stdout",
          "text": [
            "Mean: 7.333333333333333\n",
            "Median: 7.0\n",
            "Mode: 7\n",
            "Standard Deviation: 1.632993161855452\n"
          ]
        },
        {
          "output_type": "display_data",
          "data": {
            "text/plain": [
              "<Figure size 800x500 with 1 Axes>"
            ],
            "image/png": "[encoded data removed]"
          },
          "metadata": {}
        }
      ]
    },
    {
      "cell_type": "code",
      "source": [],
      "metadata": {
        "id": "3SHs2ZdfGGfI"
      },
      "execution_count": null,
      "outputs": []
    }
  ]
}